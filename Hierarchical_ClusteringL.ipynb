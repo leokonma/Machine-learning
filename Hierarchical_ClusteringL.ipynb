{
 "cells": [
  {
   "cell_type": "code",
   "execution_count": 1,
   "id": "b6f7ea73",
   "metadata": {},
   "outputs": [
    {
     "name": "stderr",
     "output_type": "stream",
     "text": [
      "/workspaces/Machine-learning/Data_Enrichment.py:232: FutureWarning: Downcasting object dtype arrays on .fillna, .ffill, .bfill is deprecated and will change in a future version. Call result.infer_objects(copy=False) instead. To opt-in to the future behavior, set `pd.set_option('future.no_silent_downcasting', True)`\n",
      "  df[\"ballon_dor_winner\"] = df[\"ballon_dor_winner\"].fillna(False).astype(bool)\n"
     ]
    }
   ],
   "source": [
    "from Data_Enrichment import get_features\n",
    "\n",
    "RAW_DIR = \"data/raw\"\n",
    "df_feats, feature_cols = get_features(RAW_DIR)\n",
    "df_feats = df_feats[(df_feats['season_end_year'] != 2025) & (df_feats['season_end_year'] != 2026)]"
   ]
  },
  {
   "cell_type": "code",
   "execution_count": 2,
   "id": "32fdda52",
   "metadata": {},
   "outputs": [],
   "source": [
    "import numpy as np\n",
    "import pandas as pd\n",
    "from sklearn.preprocessing import StandardScaler\n",
    "from scipy.cluster.hierarchy import dendrogram, linkage, fcluster\n",
    "import matplotlib.pyplot as plt"
   ]
  },
  {
   "cell_type": "code",
   "execution_count": 3,
   "id": "63996006",
   "metadata": {},
   "outputs": [],
   "source": [
    "df = df_feats[[\n",
    "    'goals',\n",
    "    'assists',\n",
    "    'penalty_goals',\n",
    "    'yellow_cards',\n",
    "    'direct_red_cards',\n",
    "    'minutes_played',\n",
    "    'height',\n",
    "    'g_per90',\n",
    "    'a_per90',\n",
    "    'pen_share',\n",
    "    'discipline_rate',\n",
    "    'clean_sheet_rate'\n",
    "]]\n",
    "\n"
   ]
  },
  {
   "cell_type": "code",
   "execution_count": 4,
   "id": "2a218193",
   "metadata": {},
   "outputs": [
    {
     "data": {
      "application/vnd.microsoft.datawrangler.viewer.v0+json": {
       "columns": [
        {
         "name": "index",
         "rawType": "int64",
         "type": "integer"
        },
        {
         "name": "goals",
         "rawType": "float64",
         "type": "float"
        },
        {
         "name": "assists",
         "rawType": "int64",
         "type": "integer"
        },
        {
         "name": "penalty_goals",
         "rawType": "int64",
         "type": "integer"
        },
        {
         "name": "yellow_cards",
         "rawType": "int64",
         "type": "integer"
        },
        {
         "name": "direct_red_cards",
         "rawType": "int64",
         "type": "integer"
        },
        {
         "name": "minutes_played",
         "rawType": "float64",
         "type": "float"
        },
        {
         "name": "height",
         "rawType": "float64",
         "type": "float"
        },
        {
         "name": "g_per90",
         "rawType": "float64",
         "type": "float"
        },
        {
         "name": "a_per90",
         "rawType": "float64",
         "type": "float"
        },
        {
         "name": "pen_share",
         "rawType": "float64",
         "type": "float"
        },
        {
         "name": "discipline_rate",
         "rawType": "float64",
         "type": "float"
        },
        {
         "name": "clean_sheet_rate",
         "rawType": "float64",
         "type": "float"
        }
       ],
       "ref": "079a4d41-0575-4da8-b091-58357af4e990",
       "rows": [
        [
         "0",
         "0.0",
         "0",
         "0",
         "0",
         "0",
         "0.0",
         "0.0",
         "0.0",
         "0.0",
         "0.0",
         "0.0",
         "0.0"
        ],
        [
         "1",
         "0.0",
         "0",
         "0",
         "0",
         "0",
         "0.0",
         "0.0",
         "0.0",
         "0.0",
         "0.0",
         "0.0",
         "0.0"
        ],
        [
         "7",
         "0.0",
         "0",
         "0",
         "0",
         "0",
         "0.0",
         "195.0",
         "0.0",
         "0.0",
         "0.0",
         "0.0",
         "0.0"
        ],
        [
         "8",
         "0.0",
         "1",
         "0",
         "3",
         "0",
         "0.0",
         "187.0",
         "0.0",
         "0.0",
         "0.0",
         "0.5",
         "0.0"
        ],
        [
         "9",
         "0.0",
         "1",
         "0",
         "1",
         "0",
         "0.0",
         "187.0",
         "0.0",
         "0.0",
         "0.0",
         "0.5",
         "0.0"
        ]
       ],
       "shape": {
        "columns": 12,
        "rows": 5
       }
      },
      "text/html": [
       "<div>\n",
       "<style scoped>\n",
       "    .dataframe tbody tr th:only-of-type {\n",
       "        vertical-align: middle;\n",
       "    }\n",
       "\n",
       "    .dataframe tbody tr th {\n",
       "        vertical-align: top;\n",
       "    }\n",
       "\n",
       "    .dataframe thead th {\n",
       "        text-align: right;\n",
       "    }\n",
       "</style>\n",
       "<table border=\"1\" class=\"dataframe\">\n",
       "  <thead>\n",
       "    <tr style=\"text-align: right;\">\n",
       "      <th></th>\n",
       "      <th>goals</th>\n",
       "      <th>assists</th>\n",
       "      <th>penalty_goals</th>\n",
       "      <th>yellow_cards</th>\n",
       "      <th>direct_red_cards</th>\n",
       "      <th>minutes_played</th>\n",
       "      <th>height</th>\n",
       "      <th>g_per90</th>\n",
       "      <th>a_per90</th>\n",
       "      <th>pen_share</th>\n",
       "      <th>discipline_rate</th>\n",
       "      <th>clean_sheet_rate</th>\n",
       "    </tr>\n",
       "  </thead>\n",
       "  <tbody>\n",
       "    <tr>\n",
       "      <th>0</th>\n",
       "      <td>0.0</td>\n",
       "      <td>0</td>\n",
       "      <td>0</td>\n",
       "      <td>0</td>\n",
       "      <td>0</td>\n",
       "      <td>0.0</td>\n",
       "      <td>0.0</td>\n",
       "      <td>0.0</td>\n",
       "      <td>0.0</td>\n",
       "      <td>0.0</td>\n",
       "      <td>0.0</td>\n",
       "      <td>0.0</td>\n",
       "    </tr>\n",
       "    <tr>\n",
       "      <th>1</th>\n",
       "      <td>0.0</td>\n",
       "      <td>0</td>\n",
       "      <td>0</td>\n",
       "      <td>0</td>\n",
       "      <td>0</td>\n",
       "      <td>0.0</td>\n",
       "      <td>0.0</td>\n",
       "      <td>0.0</td>\n",
       "      <td>0.0</td>\n",
       "      <td>0.0</td>\n",
       "      <td>0.0</td>\n",
       "      <td>0.0</td>\n",
       "    </tr>\n",
       "    <tr>\n",
       "      <th>7</th>\n",
       "      <td>0.0</td>\n",
       "      <td>0</td>\n",
       "      <td>0</td>\n",
       "      <td>0</td>\n",
       "      <td>0</td>\n",
       "      <td>0.0</td>\n",
       "      <td>195.0</td>\n",
       "      <td>0.0</td>\n",
       "      <td>0.0</td>\n",
       "      <td>0.0</td>\n",
       "      <td>0.0</td>\n",
       "      <td>0.0</td>\n",
       "    </tr>\n",
       "    <tr>\n",
       "      <th>8</th>\n",
       "      <td>0.0</td>\n",
       "      <td>1</td>\n",
       "      <td>0</td>\n",
       "      <td>3</td>\n",
       "      <td>0</td>\n",
       "      <td>0.0</td>\n",
       "      <td>187.0</td>\n",
       "      <td>0.0</td>\n",
       "      <td>0.0</td>\n",
       "      <td>0.0</td>\n",
       "      <td>0.5</td>\n",
       "      <td>0.0</td>\n",
       "    </tr>\n",
       "    <tr>\n",
       "      <th>9</th>\n",
       "      <td>0.0</td>\n",
       "      <td>1</td>\n",
       "      <td>0</td>\n",
       "      <td>1</td>\n",
       "      <td>0</td>\n",
       "      <td>0.0</td>\n",
       "      <td>187.0</td>\n",
       "      <td>0.0</td>\n",
       "      <td>0.0</td>\n",
       "      <td>0.0</td>\n",
       "      <td>0.5</td>\n",
       "      <td>0.0</td>\n",
       "    </tr>\n",
       "  </tbody>\n",
       "</table>\n",
       "</div>"
      ],
      "text/plain": [
       "   goals  assists  penalty_goals  yellow_cards  direct_red_cards  \\\n",
       "0    0.0        0              0             0                 0   \n",
       "1    0.0        0              0             0                 0   \n",
       "7    0.0        0              0             0                 0   \n",
       "8    0.0        1              0             3                 0   \n",
       "9    0.0        1              0             1                 0   \n",
       "\n",
       "   minutes_played  height  g_per90  a_per90  pen_share  discipline_rate  \\\n",
       "0             0.0     0.0      0.0      0.0        0.0              0.0   \n",
       "1             0.0     0.0      0.0      0.0        0.0              0.0   \n",
       "7             0.0   195.0      0.0      0.0        0.0              0.0   \n",
       "8             0.0   187.0      0.0      0.0        0.0              0.5   \n",
       "9             0.0   187.0      0.0      0.0        0.0              0.5   \n",
       "\n",
       "   clean_sheet_rate  \n",
       "0               0.0  \n",
       "1               0.0  \n",
       "7               0.0  \n",
       "8               0.0  \n",
       "9               0.0  "
      ]
     },
     "execution_count": 4,
     "metadata": {},
     "output_type": "execute_result"
    }
   ],
   "source": [
    "a = df.select_dtypes(include=np.number)\n",
    "a.head()"
   ]
  },
  {
   "cell_type": "code",
   "execution_count": 5,
   "id": "9d7d2fd9",
   "metadata": {},
   "outputs": [],
   "source": [
    "from sklearn.preprocessing import StandardScaler\n",
    "# Standardize the features\n",
    "scaler = StandardScaler() #Z score\n",
    "X1 = scaler.fit_transform(a)"
   ]
  },
  {
   "cell_type": "code",
   "execution_count": 6,
   "id": "453aa0eb",
   "metadata": {},
   "outputs": [
    {
     "data": {
      "image/png": "[encoded data removed]",
      "text/plain": [
       "<Figure size 1500x700 with 1 Axes>"
      ]
     },
     "metadata": {},
     "output_type": "display_data"
    },
    {
     "name": "stdout",
     "output_type": "stream",
     "text": [
      "                  goals   assists  penalty_goals  own_goals  yellow_cards  \\\n",
      "hier_cluster                                                                \n",
      "1             12.415385  6.876923       1.876923   0.030769      4.230769   \n",
      "2              0.000000  0.061728       0.000000   0.000000      0.777778   \n",
      "3              0.320423  0.369718       0.017606   0.000000      0.859155   \n",
      "4              2.356643  2.342657       0.045455   0.146853      4.527972   \n",
      "\n",
      "              direct_red_cards  minutes_played   g_per90   a_per90  gc_per90  \\\n",
      "hier_cluster                                                                   \n",
      "1                     0.076923      313.876923  5.133999  2.175832  0.000000   \n",
      "2                     0.000000     1423.296296  0.000000  0.003024  1.578047   \n",
      "3                     0.000000       97.401408  0.091694  0.024637  0.000000   \n",
      "4                     0.136364      925.356643  0.498008  0.308462  0.000000   \n",
      "\n",
      "              clean_sheet_rate  \n",
      "hier_cluster                    \n",
      "1                     0.000000  \n",
      "2                     0.236865  \n",
      "3                     0.000000  \n",
      "4                     0.000000  \n"
     ]
    }
   ],
   "source": [
    "import pandas as pd\n",
    "import numpy as np\n",
    "from sklearn.preprocessing import StandardScaler\n",
    "from scipy.cluster.hierarchy import linkage, dendrogram, fcluster\n",
    "import matplotlib.pyplot as plt\n",
    "\n",
    "# --- 1. Selecciona las features numéricas más relevantes ---\n",
    "selected_features = [\n",
    "    'goals', 'assists', 'penalty_goals', 'own_goals',\n",
    "    'yellow_cards', 'direct_red_cards', 'minutes_played',\n",
    "    'g_per90', 'a_per90', 'gc_per90', 'clean_sheet_rate'\n",
    "]\n",
    "\n",
    "# --- 2. Toma una muestra reducida ---\n",
    "sample_df = df_feats[selected_features].fillna(0).sample(1000, random_state=42)\n",
    "\n",
    "# --- 3. Escala las features ---\n",
    "scaler = StandardScaler()\n",
    "X_scaled = scaler.fit_transform(sample_df)\n",
    "\n",
    "# --- 4. Aplica linkage (método jerárquico) ---\n",
    "Z = linkage(X_scaled, method='ward')\n",
    "\n",
    "# --- 5. Grafica dendrograma ---\n",
    "plt.figure(figsize=(15, 7))\n",
    "dendrogram(\n",
    "    Z,\n",
    "    leaf_rotation=90.,       # rota los nombres de los leaves\n",
    "    leaf_font_size=10.,\n",
    "    truncate_mode='lastp',   # muestra solo los últimos p clusters\n",
    "    p=30                     # ajusta cuántos leaves se muestran\n",
    ")\n",
    "plt.title('Dendrograma - Hierarchical Clustering (muestra 1000)')\n",
    "plt.xlabel('Jugador o Cluster')\n",
    "plt.ylabel('Distancia')\n",
    "plt.show()\n",
    "\n",
    "# --- 6. Asignar clusters ---\n",
    "# Para la muestra, por ejemplo, 4 clusters\n",
    "clusters = fcluster(Z, t=4, criterion='maxclust')\n",
    "sample_df['hier_cluster'] = clusters\n",
    "\n",
    "# --- 7. Revisar promedios por cluster ---\n",
    "cluster_summary = sample_df.groupby('hier_cluster')[selected_features].mean()\n",
    "print(cluster_summary)\n"
   ]
  }
 ],
 "metadata": {
  "kernelspec": {
   "display_name": ".venv",
   "language": "python",
   "name": "python3"
  },
  "language_info": {
   "codemirror_mode": {
    "name": "ipython",
    "version": 3
   },
   "file_extension": ".py",
   "mimetype": "text/x-python",
   "name": "python",
   "nbconvert_exporter": "python",
   "pygments_lexer": "ipython3",
   "version": "3.12.1"
  }
 },
 "nbformat": 4,
 "nbformat_minor": 5
}
