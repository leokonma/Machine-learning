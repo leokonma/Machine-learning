{
 "cells": [
  {
   "cell_type": "code",
   "execution_count": 1,
   "id": "7ac33d2d",
   "metadata": {},
   "outputs": [
    {
     "name": "stderr",
     "output_type": "stream",
     "text": [
      "/workspaces/Machine-learning/Data_Enrichment.py:232: FutureWarning: Downcasting object dtype arrays on .fillna, .ffill, .bfill is deprecated and will change in a future version. Call result.infer_objects(copy=False) instead. To opt-in to the future behavior, set `pd.set_option('future.no_silent_downcasting', True)`\n",
      "  df[\"ballon_dor_winner\"] = df[\"ballon_dor_winner\"].fillna(False).astype(bool)\n"
     ]
    }
   ],
   "source": [
    "from Data_Enrichment import get_features\n",
    "\n",
    "RAW_DIR = \"data/raw\"\n",
    "df_feats, feature_cols = get_features(RAW_DIR)\n",
    "df_feats = df_feats[(df_feats['season_end_year'] != 2025) & (df_feats['season_end_year'] != 2026)]"
   ]
  },
  {
   "cell_type": "code",
   "execution_count": 2,
   "id": "9d12f612",
   "metadata": {},
   "outputs": [],
   "source": [
    "import numpy as np\n",
    "import pandas as pd\n",
    "import matplotlib.pyplot as plt\n",
    "import seaborn as sns"
   ]
  },
  {
   "cell_type": "code",
   "execution_count": 3,
   "id": "66eeb29d",
   "metadata": {},
   "outputs": [],
   "source": [
    "df = df_feats[[\n",
    "    'goals',\n",
    "    'assists',\n",
    "    'penalty_goals',\n",
    "    'yellow_cards',\n",
    "    'direct_red_cards',\n",
    "    'minutes_played',\n",
    "    'height',\n",
    "    'g_per90',\n",
    "    'a_per90',\n",
    "    'pen_share',\n",
    "    'discipline_rate',\n",
    "    'clean_sheet_rate'\n",
    "]]\n",
    "\n"
   ]
  },
  {
   "cell_type": "code",
   "execution_count": 4,
   "id": "5e329c91",
   "metadata": {},
   "outputs": [
    {
     "data": {
      "application/vnd.microsoft.datawrangler.viewer.v0+json": {
       "columns": [
        {
         "name": "index",
         "rawType": "int64",
         "type": "integer"
        },
        {
         "name": "goals",
         "rawType": "float64",
         "type": "float"
        },
        {
         "name": "assists",
         "rawType": "int64",
         "type": "integer"
        },
        {
         "name": "penalty_goals",
         "rawType": "int64",
         "type": "integer"
        },
        {
         "name": "yellow_cards",
         "rawType": "int64",
         "type": "integer"
        },
        {
         "name": "direct_red_cards",
         "rawType": "int64",
         "type": "integer"
        },
        {
         "name": "minutes_played",
         "rawType": "float64",
         "type": "float"
        },
        {
         "name": "height",
         "rawType": "float64",
         "type": "float"
        },
        {
         "name": "g_per90",
         "rawType": "float64",
         "type": "float"
        },
        {
         "name": "a_per90",
         "rawType": "float64",
         "type": "float"
        },
        {
         "name": "pen_share",
         "rawType": "float64",
         "type": "float"
        },
        {
         "name": "discipline_rate",
         "rawType": "float64",
         "type": "float"
        },
        {
         "name": "clean_sheet_rate",
         "rawType": "float64",
         "type": "float"
        }
       ],
       "ref": "284150fc-ddea-4e5f-85b2-a9467e1faedc",
       "rows": [
        [
         "0",
         "0.0",
         "0",
         "0",
         "0",
         "0",
         "0.0",
         "0.0",
         "0.0",
         "0.0",
         "0.0",
         "0.0",
         "0.0"
        ],
        [
         "1",
         "0.0",
         "0",
         "0",
         "0",
         "0",
         "0.0",
         "0.0",
         "0.0",
         "0.0",
         "0.0",
         "0.0",
         "0.0"
        ],
        [
         "7",
         "0.0",
         "0",
         "0",
         "0",
         "0",
         "0.0",
         "195.0",
         "0.0",
         "0.0",
         "0.0",
         "0.0",
         "0.0"
        ],
        [
         "8",
         "0.0",
         "1",
         "0",
         "3",
         "0",
         "0.0",
         "187.0",
         "0.0",
         "0.0",
         "0.0",
         "0.5",
         "0.0"
        ],
        [
         "9",
         "0.0",
         "1",
         "0",
         "1",
         "0",
         "0.0",
         "187.0",
         "0.0",
         "0.0",
         "0.0",
         "0.5",
         "0.0"
        ]
       ],
       "shape": {
        "columns": 12,
        "rows": 5
       }
      },
      "text/html": [
       "<div>\n",
       "<style scoped>\n",
       "    .dataframe tbody tr th:only-of-type {\n",
       "        vertical-align: middle;\n",
       "    }\n",
       "\n",
       "    .dataframe tbody tr th {\n",
       "        vertical-align: top;\n",
       "    }\n",
       "\n",
       "    .dataframe thead th {\n",
       "        text-align: right;\n",
       "    }\n",
       "</style>\n",
       "<table border=\"1\" class=\"dataframe\">\n",
       "  <thead>\n",
       "    <tr style=\"text-align: right;\">\n",
       "      <th></th>\n",
       "      <th>goals</th>\n",
       "      <th>assists</th>\n",
       "      <th>penalty_goals</th>\n",
       "      <th>yellow_cards</th>\n",
       "      <th>direct_red_cards</th>\n",
       "      <th>minutes_played</th>\n",
       "      <th>height</th>\n",
       "      <th>g_per90</th>\n",
       "      <th>a_per90</th>\n",
       "      <th>pen_share</th>\n",
       "      <th>discipline_rate</th>\n",
       "      <th>clean_sheet_rate</th>\n",
       "    </tr>\n",
       "  </thead>\n",
       "  <tbody>\n",
       "    <tr>\n",
       "      <th>0</th>\n",
       "      <td>0.0</td>\n",
       "      <td>0</td>\n",
       "      <td>0</td>\n",
       "      <td>0</td>\n",
       "      <td>0</td>\n",
       "      <td>0.0</td>\n",
       "      <td>0.0</td>\n",
       "      <td>0.0</td>\n",
       "      <td>0.0</td>\n",
       "      <td>0.0</td>\n",
       "      <td>0.0</td>\n",
       "      <td>0.0</td>\n",
       "    </tr>\n",
       "    <tr>\n",
       "      <th>1</th>\n",
       "      <td>0.0</td>\n",
       "      <td>0</td>\n",
       "      <td>0</td>\n",
       "      <td>0</td>\n",
       "      <td>0</td>\n",
       "      <td>0.0</td>\n",
       "      <td>0.0</td>\n",
       "      <td>0.0</td>\n",
       "      <td>0.0</td>\n",
       "      <td>0.0</td>\n",
       "      <td>0.0</td>\n",
       "      <td>0.0</td>\n",
       "    </tr>\n",
       "    <tr>\n",
       "      <th>7</th>\n",
       "      <td>0.0</td>\n",
       "      <td>0</td>\n",
       "      <td>0</td>\n",
       "      <td>0</td>\n",
       "      <td>0</td>\n",
       "      <td>0.0</td>\n",
       "      <td>195.0</td>\n",
       "      <td>0.0</td>\n",
       "      <td>0.0</td>\n",
       "      <td>0.0</td>\n",
       "      <td>0.0</td>\n",
       "      <td>0.0</td>\n",
       "    </tr>\n",
       "    <tr>\n",
       "      <th>8</th>\n",
       "      <td>0.0</td>\n",
       "      <td>1</td>\n",
       "      <td>0</td>\n",
       "      <td>3</td>\n",
       "      <td>0</td>\n",
       "      <td>0.0</td>\n",
       "      <td>187.0</td>\n",
       "      <td>0.0</td>\n",
       "      <td>0.0</td>\n",
       "      <td>0.0</td>\n",
       "      <td>0.5</td>\n",
       "      <td>0.0</td>\n",
       "    </tr>\n",
       "    <tr>\n",
       "      <th>9</th>\n",
       "      <td>0.0</td>\n",
       "      <td>1</td>\n",
       "      <td>0</td>\n",
       "      <td>1</td>\n",
       "      <td>0</td>\n",
       "      <td>0.0</td>\n",
       "      <td>187.0</td>\n",
       "      <td>0.0</td>\n",
       "      <td>0.0</td>\n",
       "      <td>0.0</td>\n",
       "      <td>0.5</td>\n",
       "      <td>0.0</td>\n",
       "    </tr>\n",
       "  </tbody>\n",
       "</table>\n",
       "</div>"
      ],
      "text/plain": [
       "   goals  assists  penalty_goals  yellow_cards  direct_red_cards  \\\n",
       "0    0.0        0              0             0                 0   \n",
       "1    0.0        0              0             0                 0   \n",
       "7    0.0        0              0             0                 0   \n",
       "8    0.0        1              0             3                 0   \n",
       "9    0.0        1              0             1                 0   \n",
       "\n",
       "   minutes_played  height  g_per90  a_per90  pen_share  discipline_rate  \\\n",
       "0             0.0     0.0      0.0      0.0        0.0              0.0   \n",
       "1             0.0     0.0      0.0      0.0        0.0              0.0   \n",
       "7             0.0   195.0      0.0      0.0        0.0              0.0   \n",
       "8             0.0   187.0      0.0      0.0        0.0              0.5   \n",
       "9             0.0   187.0      0.0      0.0        0.0              0.5   \n",
       "\n",
       "   clean_sheet_rate  \n",
       "0               0.0  \n",
       "1               0.0  \n",
       "7               0.0  \n",
       "8               0.0  \n",
       "9               0.0  "
      ]
     },
     "execution_count": 4,
     "metadata": {},
     "output_type": "execute_result"
    }
   ],
   "source": [
    "a = df.select_dtypes(include=np.number)\n",
    "a.head()"
   ]
  },
  {
   "cell_type": "code",
   "execution_count": 5,
   "id": "8cb44e7b",
   "metadata": {},
   "outputs": [],
   "source": [
    "from sklearn.preprocessing import StandardScaler\n",
    "# Standardize the features\n",
    "scaler = StandardScaler() #Z score\n",
    "X1 = scaler.fit_transform(a)"
   ]
  },
  {
   "cell_type": "code",
   "execution_count": null,
   "id": "027972e3",
   "metadata": {},
   "outputs": [],
   "source": [
    "print(X1)"
   ]
  },
  {
   "cell_type": "code",
   "execution_count": 6,
   "id": "42c4fc7e",
   "metadata": {},
   "outputs": [
    {
     "name": "stdout",
     "output_type": "stream",
     "text": [
      "[5 5 0 ... 0 4 5]\n"
     ]
    },
    {
     "data": {
      "application/vnd.microsoft.datawrangler.viewer.v0+json": {
       "columns": [
        {
         "name": "index",
         "rawType": "object",
         "type": "string"
        },
        {
         "name": "0",
         "rawType": "object",
         "type": "unknown"
        }
       ],
       "ref": "fb19e79c-eaa4-47a9-97a7-1b4b7b02bd20",
       "rows": [
        [
         "goals",
         "float64"
        ],
        [
         "assists",
         "int64"
        ],
        [
         "penalty_goals",
         "int64"
        ],
        [
         "yellow_cards",
         "int64"
        ],
        [
         "direct_red_cards",
         "int64"
        ],
        [
         "minutes_played",
         "float64"
        ],
        [
         "height",
         "float64"
        ],
        [
         "g_per90",
         "float64"
        ],
        [
         "a_per90",
         "float64"
        ],
        [
         "pen_share",
         "float64"
        ],
        [
         "discipline_rate",
         "float64"
        ],
        [
         "clean_sheet_rate",
         "float64"
        ]
       ],
       "shape": {
        "columns": 1,
        "rows": 12
       }
      },
      "text/plain": [
       "goals               float64\n",
       "assists               int64\n",
       "penalty_goals         int64\n",
       "yellow_cards          int64\n",
       "direct_red_cards      int64\n",
       "minutes_played      float64\n",
       "height              float64\n",
       "g_per90             float64\n",
       "a_per90             float64\n",
       "pen_share           float64\n",
       "discipline_rate     float64\n",
       "clean_sheet_rate    float64\n",
       "dtype: object"
      ]
     },
     "execution_count": 6,
     "metadata": {},
     "output_type": "execute_result"
    }
   ],
   "source": [
    "from sklearn.cluster import KMeans\n",
    "# We apply it to our date\n",
    "kmeans = KMeans(n_clusters=8, random_state=1,n_init=50).fit(X1)\n",
    "\n",
    "# Here it is the clustering result\n",
    "labels = kmeans.labels_\n",
    "print(labels)\n",
    "a.dtypes\n"
   ]
  },
  {
   "cell_type": "code",
   "execution_count": 7,
   "id": "f5641f3c",
   "metadata": {},
   "outputs": [],
   "source": [
    "selected_features = [\n",
    "    'goals',\n",
    "    'assists',\n",
    "    'penalty_goals',\n",
    "    'yellow_cards',\n",
    "    'direct_red_cards',\n",
    "    'minutes_played',\n",
    "    'height',\n",
    "    'g_per90',\n",
    "    'a_per90',\n",
    "    'pen_share',\n",
    "    'discipline_rate',\n",
    "    'clean_sheet_rate'\n",
    "]\n"
   ]
  },
  {
   "cell_type": "code",
   "execution_count": 8,
   "id": "059322e5",
   "metadata": {},
   "outputs": [
    {
     "name": "stdout",
     "output_type": "stream",
     "text": [
      "kmeans_cluster             0           1            2           3           4  \\\n",
      "goals               0.385949   23.799127     0.000000    8.053781    1.373263   \n",
      "assists             0.342474    8.729258     0.080443    6.111289    1.516263   \n",
      "penalty_goals       0.004191    4.056769     0.000000    0.322151    0.010603   \n",
      "yellow_cards        0.467926    4.441048     1.031734    3.517572    4.843531   \n",
      "direct_red_cards    0.000000    0.078603     0.000000    0.020767    0.000000   \n",
      "minutes_played    110.028699  191.388646  2100.940959  410.550053  818.944261   \n",
      "height            182.841870  181.681223   190.344649  180.181576  182.438888   \n",
      "g_per90             0.128787   12.816952     0.000000    2.670582    0.211063   \n",
      "a_per90             0.037936    4.352201     0.003201    1.543513    0.120097   \n",
      "pen_share           0.000920    0.184807     0.000000    0.036452    0.002295   \n",
      "discipline_rate     0.034445    0.133063     0.044498    0.113019    0.249810   \n",
      "clean_sheet_rate    0.001325    0.000000     0.363652    0.000000    0.000548   \n",
      "\n",
      "kmeans_cluster            5           6           7  \n",
      "goals              0.020979    5.541667    1.852554  \n",
      "assists            0.027972    3.147222    1.626853  \n",
      "penalty_goals      0.000000    2.409722    0.069193  \n",
      "yellow_cards       0.055944    3.929167    4.223229  \n",
      "direct_red_cards   0.000000    0.088889    1.060132  \n",
      "minutes_played    33.286713  552.295833  720.420923  \n",
      "height             0.000000  180.865278  182.825371  \n",
      "g_per90            0.001250    1.705582    0.383088  \n",
      "a_per90            0.001302    0.739545    0.193025  \n",
      "pen_share          0.000000    0.532418    0.012223  \n",
      "discipline_rate    0.010420    0.154277    0.280761  \n",
      "clean_sheet_rate   0.000000    0.000000    0.000000  \n"
     ]
    }
   ],
   "source": [
    "df_feats['kmeans_cluster'] = labels.astype(str)  # convertir a string opcional\n",
    "\n",
    "# Ahora sí podemos agrupar\n",
    "cluster_means = df_feats.groupby('kmeans_cluster')[selected_features].mean().T\n",
    "print(cluster_means)"
   ]
  },
  {
   "cell_type": "code",
   "execution_count": null,
   "id": "3a435a16",
   "metadata": {},
   "outputs": [],
   "source": [
    "df_feats.groupby('kmeans_cluster')[selected_features].mean().T\n"
   ]
  },
  {
   "cell_type": "code",
   "execution_count": null,
   "id": "fb7482e6",
   "metadata": {},
   "outputs": [],
   "source": [
    "import pandas as pd\n",
    "import seaborn as sns\n",
    "import matplotlib.pyplot as plt\n",
    "\n",
    "# Seleccionamos solo las features que queremos analizar + cluster\n",
    "df_plot = df_feats[selected_features + ['kmeans_cluster']]\n",
    "\n",
    "# Calculamos la media de cada feature por cluster\n",
    "cluster_means = df_plot.groupby('kmeans_cluster')[selected_features].mean().T\n",
    "\n",
    "# Heatmap\n",
    "plt.figure(figsize=(12, 8))\n",
    "sns.heatmap(cluster_means, annot=True, cmap='viridis', fmt=\".2f\")\n",
    "plt.title('Media de features por cluster')\n",
    "plt.xlabel('Cluster')\n",
    "plt.ylabel('Feature')\n",
    "plt.show()\n"
   ]
  },
  {
   "cell_type": "code",
   "execution_count": null,
   "id": "65020214",
   "metadata": {},
   "outputs": [],
   "source": [
    "# In KMeans function, the field inertia_ is the percentage of variance explained by the number of clusters\n",
    "wcss = []\n",
    "K = range(1, 15)\n",
    "\n",
    "for k in K:\n",
    "    kmeans = KMeans(n_clusters=k, init='k-means++', n_init=10, random_state=42)\n",
    "    kmeans.fit(X1)\n",
    "    wcss.append(kmeans.inertia_)\n",
    "\n",
    "# Plot Elbow\n",
    "plt.figure(figsize=(8, 5))\n",
    "plt.plot(K, wcss, marker='o')\n",
    "plt.xlabel('Number of clusters')\n",
    "plt.ylabel('WCSS (Inertia)')\n",
    "plt.title('Elbow Method')\n",
    "plt.grid(True)\n",
    "plt.show()"
   ]
  },
  {
   "cell_type": "code",
   "execution_count": null,
   "id": "22798061",
   "metadata": {},
   "outputs": [],
   "source": [
    "from sklearn.metrics import silhouette_score\n",
    "# ---------------------------------------\n",
    "# 2. Silhouette Method\n",
    "# ---------------------------------------\n",
    "\n",
    "silhouette_scores = []\n",
    "K = range(2, 11)  # silhouette requires at least 2 clusters\n",
    "\n",
    "for k in K:\n",
    "    kmeans = KMeans(n_clusters=k, init='k-means++', n_init=10, random_state=42)\n",
    "    labels = kmeans.fit_predict(X1)\n",
    "    score = silhouette_score(X1, labels)\n",
    "    silhouette_scores.append(score)\n",
    "\n",
    "# Plot Silhouette Scores\n",
    "plt.figure(figsize=(8, 5))\n",
    "plt.plot(K, silhouette_scores, marker='s', color='green')\n",
    "plt.xlabel('Number of clusters')\n",
    "plt.ylabel('Silhouette Score')\n",
    "plt.title('Silhouette Method')\n",
    "plt.grid(True)\n",
    "plt.show()"
   ]
  },
  {
   "cell_type": "code",
   "execution_count": null,
   "id": "c6efa404",
   "metadata": {},
   "outputs": [],
   "source": [
    "import numpy as np\n",
    "import matplotlib.pyplot as plt\n",
    "from sklearn.cluster import KMeans\n",
    "from sklearn.metrics import pairwise_distances\n",
    "from sklearn.datasets import load_iris\n",
    "from sklearn.preprocessing import StandardScaler\n",
    "\n",
    "# ---------------------------------------\n",
    "# 3. Define Gap Statistic function\n",
    "# ---------------------------------------\n",
    "def compute_wcss(X, n_clusters):\n",
    "    \"\"\"Compute within-cluster sum of squares (WCSS) for given k\"\"\"\n",
    "    kmeans = KMeans(n_clusters=n_clusters, random_state=42, n_init=10)\n",
    "    kmeans.fit(X)\n",
    "    return kmeans.inertia_\n",
    "\n",
    "def gap_statistic(X, max_k=10, B=10):\n",
    "    \"\"\"Compute gap statistic for k = 1 to max_k with B reference datasets\"\"\"\n",
    "    n_samples, n_features = X.shape\n",
    "    wcss = np.zeros(max_k)\n",
    "    wcss_ref = np.zeros((B, max_k))\n",
    "\n",
    "    # Bounds for uniform reference distribution\n",
    "    xmin = X.min(axis=0)\n",
    "    xmax = X.max(axis=0)\n",
    "\n",
    "    for k in range(1, max_k + 1):\n",
    "        # Real WCSS\n",
    "        wcss[k - 1] = compute_wcss(X, k)\n",
    "\n",
    "        # Reference WCSS\n",
    "        for b in range(B):\n",
    "            X_ref = np.random.uniform(xmin, xmax, size=(n_samples, n_features))\n",
    "            wcss_ref[b, k - 1] = compute_wcss(X_ref, k)\n",
    "\n",
    "    # Gap = log(E[WCSS_ref]) - log(WCSS_data)\n",
    "    log_wcss = np.log(wcss)\n",
    "    log_wcss_ref = np.log(wcss_ref)\n",
    "    gap = log_wcss_ref.mean(axis=0) - log_wcss\n",
    "    gap_std = log_wcss_ref.std(axis=0) * np.sqrt(1 + 1 / B)\n",
    "\n",
    "    return gap, gap_std, wcss, wcss_ref\n",
    "\n",
    "# ---------------------------------------\n",
    "# 3. Run and plot the gap statistic\n",
    "# ---------------------------------------\n",
    "max_k = 10\n",
    "gap, gap_std, wcss, wcss_ref = gap_statistic(X1, max_k=max_k, B=10)\n",
    "\n",
    "# Optimal k (according to \"1-SE\" rule)\n",
    "optimal_k = np.argmax(gap[:-1] >= gap[1:] - gap_std[1:]) + 1\n",
    "\n",
    "# Plot\n",
    "plt.figure(figsize=(8, 5))\n",
    "plt.plot(range(1, max_k + 1), gap, marker='o')\n",
    "plt.xlabel('Number of clusters (k)')\n",
    "plt.ylabel('Gap Value')\n",
    "plt.title('Gap Statistic')\n",
    "plt.grid(True)\n",
    "plt.axvline(optimal_k, color='red', linestyle='--', label=f'Optimal k = {optimal_k}')\n",
    "plt.legend()\n",
    "plt.show()\n",
    "\n",
    "# Print optimal k\n",
    "print(f\"Suggested optimal number of clusters (Gap Statistic): {optimal_k}\")\n"
   ]
  }
 ],
 "metadata": {
  "kernelspec": {
   "display_name": ".venv",
   "language": "python",
   "name": "python3"
  },
  "language_info": {
   "codemirror_mode": {
    "name": "ipython",
    "version": 3
   },
   "file_extension": ".py",
   "mimetype": "text/x-python",
   "name": "python",
   "nbconvert_exporter": "python",
   "pygments_lexer": "ipython3",
   "version": "3.12.1"
  }
 },
 "nbformat": 4,
 "nbformat_minor": 5
}
